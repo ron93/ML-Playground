{
 "cells": [
  {
   "cell_type": "markdown",
   "id": "shaped-printing",
   "metadata": {},
   "source": [
    "# load and prepare data"
   ]
  },
  {
   "cell_type": "code",
   "execution_count": 3,
   "id": "unexpected-stadium",
   "metadata": {},
   "outputs": [],
   "source": [
    "#import libs\n",
    "from sklearn.datasets import load_boston\n",
    "from sklearn.model_selection import train_test_split\n",
    "import pandas as pd\n"
   ]
  },
  {
   "cell_type": "code",
   "execution_count": 7,
   "id": "focal-guinea",
   "metadata": {},
   "outputs": [],
   "source": [
    "#dataset\n",
    "\n",
    "boston = load_boston()\n",
    "features_train, features_test, labels_train, labels_test = train_test_split(boston.data, boston.target, \n",
    "                                                                            test_size=0.4, random_state=0)\n",
    "\n"
   ]
  },
  {
   "cell_type": "code",
   "execution_count": 11,
   "id": "dress-yorkshire",
   "metadata": {},
   "outputs": [],
   "source": [
    "#split data\n",
    "features_train = pd.DataFrame(features_train, columns = boston.feature_names)\n",
    "features_test = pd.DataFrame(features_test, columns = boston.feature_names)\n",
    "# Select rooms column for univariate regression example\n",
    "features_train = features_train.iloc[:, 5]\n",
    "features_test = features_test.iloc[:, 5]\n",
    "\n",
    "labels_train = pd.DataFrame(labels_train, columns = ['Price'])\n",
    "labels_test = pd.DataFrame(labels_test, columns = ['Price'])"
   ]
  },
  {
   "cell_type": "markdown",
   "id": "specific-pregnancy",
   "metadata": {},
   "source": [
    "# Plot data"
   ]
  },
  {
   "cell_type": "code",
   "execution_count": 15,
   "id": "thermal-antibody",
   "metadata": {},
   "outputs": [
    {
     "data": {
      "text/plain": [
       "Text(0, 0.5, 'Labels')"
      ]
     },
     "execution_count": 15,
     "metadata": {},
     "output_type": "execute_result"
    },
    {
     "data": {
      "image/png": "[encoded data removed]",
      "text/plain": [
       "<Figure size 432x288 with 1 Axes>"
      ]
     },
     "metadata": {
      "needs_background": "light"
     },
     "output_type": "display_data"
    }
   ],
   "source": [
    "import matplotlib.pyplot as plt\n",
    "%matplotlib inline\n",
    "\n",
    "plt.scatter(features_train, labels_train)\n",
    "plt.xlabel(\"Features\")\n",
    "plt.ylabel(\"Labels\")"
   ]
  },
  {
   "cell_type": "code",
   "execution_count": null,
   "id": "advisory-action",
   "metadata": {},
   "outputs": [],
   "source": []
  }
 ],
 "metadata": {
  "kernelspec": {
   "display_name": "Python 3.8.5 64-bit ('venv')",
   "language": "python",
   "name": "python38564bitvenv309bed666afd4ee8a8c34bb099fcf659"
  },
  "language_info": {
   "codemirror_mode": {
    "name": "ipython",
    "version": 3
   },
   "file_extension": ".py",
   "mimetype": "text/x-python",
   "name": "python",
   "nbconvert_exporter": "python",
   "pygments_lexer": "ipython3",
   "version": "3.8.5"
  }
 },
 "nbformat": 4,
 "nbformat_minor": 5
}
