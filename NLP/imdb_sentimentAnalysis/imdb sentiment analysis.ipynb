{
 "cells": [
  {
   "cell_type": "markdown",
   "id": "governing-arnold",
   "metadata": {},
   "source": [
    "# import libs"
   ]
  },
  {
   "cell_type": "code",
   "execution_count": 49,
   "id": "cultural-industry",
   "metadata": {},
   "outputs": [],
   "source": [
    "import numpy as np\n",
    "import pandas as pd \n",
    "import os"
   ]
  },
  {
   "cell_type": "markdown",
   "id": "dense-broadcast",
   "metadata": {},
   "source": [
    "# Function to load dataset"
   ]
  },
  {
   "cell_type": "code",
   "execution_count": 52,
   "id": "spoken-research",
   "metadata": {},
   "outputs": [],
   "source": [
    "def load_data(data_directory):\n",
    "    #input : data_directory --> path to data folder --> = '../aclimdb'\n",
    "    #Returns : test and train data as pd dataframe\n",
    "    data ={}\n",
    "    for split in ['train','test']:\n",
    "        data[split] = []\n",
    "        for sentiment in ['neg','pos']:\n",
    "            score = 1 if sentiment == 'pos' else 0\n",
    "            path = os.path.join(data_directory, split, sentiment)\n",
    "            file_names =  os.listdir(path)\n",
    "            for f_name in file_names:\n",
    "                with open(os.path.join(path,f_name),'r') as f:\n",
    "                    review = f.read()\n",
    "                    data[split].append([review,score])\n",
    "        \n",
    "    np.random.shuffle(data['train'])\n",
    "    data['train'] = pd.DataFrame(data['train'], columns=['text','sentiment'])\n",
    "        \n",
    "    np.random.shuffle(data['test'])\n",
    "    data['test'] = pd.DataFrame(data['test'], columns=['text','sentiment'])\n",
    "        \n",
    "    return data['train'],data['test']"
   ]
  },
  {
   "cell_type": "markdown",
   "id": "square-remark",
   "metadata": {},
   "source": [
    "# load data with load_data fuction"
   ]
  },
  {
   "cell_type": "code",
   "execution_count": 62,
   "id": "sealed-peeing",
   "metadata": {},
   "outputs": [
    {
     "data": {
      "text/html": [
       "<div>\n",
       "<style scoped>\n",
       "    .dataframe tbody tr th:only-of-type {\n",
       "        vertical-align: middle;\n",
       "    }\n",
       "\n",
       "    .dataframe tbody tr th {\n",
       "        vertical-align: top;\n",
       "    }\n",
       "\n",
       "    .dataframe thead th {\n",
       "        text-align: right;\n",
       "    }\n",
       "</style>\n",
       "<table border=\"1\" class=\"dataframe\">\n",
       "  <thead>\n",
       "    <tr style=\"text-align: right;\">\n",
       "      <th></th>\n",
       "      <th>text</th>\n",
       "      <th>sentiment</th>\n",
       "    </tr>\n",
       "  </thead>\n",
       "  <tbody>\n",
       "    <tr>\n",
       "      <th>0</th>\n",
       "      <td>Yes, the plot is predictable; yes, there are a...</td>\n",
       "      <td>1</td>\n",
       "    </tr>\n",
       "    <tr>\n",
       "      <th>1</th>\n",
       "      <td>...Ok I have read about this film somewhere in...</td>\n",
       "      <td>0</td>\n",
       "    </tr>\n",
       "    <tr>\n",
       "      <th>2</th>\n",
       "      <td>This a rip roaring western and i have watched ...</td>\n",
       "      <td>1</td>\n",
       "    </tr>\n",
       "    <tr>\n",
       "      <th>3</th>\n",
       "      <td>Undying is a very good game which brings some ...</td>\n",
       "      <td>1</td>\n",
       "    </tr>\n",
       "    <tr>\n",
       "      <th>4</th>\n",
       "      <td>I saw the long day's dying when it first came ...</td>\n",
       "      <td>1</td>\n",
       "    </tr>\n",
       "  </tbody>\n",
       "</table>\n",
       "</div>"
      ],
      "text/plain": [
       "                                                text  sentiment\n",
       "0  Yes, the plot is predictable; yes, there are a...          1\n",
       "1  ...Ok I have read about this film somewhere in...          0\n",
       "2  This a rip roaring western and i have watched ...          1\n",
       "3  Undying is a very good game which brings some ...          1\n",
       "4  I saw the long day's dying when it first came ...          1"
      ]
     },
     "execution_count": 62,
     "metadata": {},
     "output_type": "execute_result"
    }
   ],
   "source": [
    "train_data,test_data = load_data(data_directory = './../../data/imdb-data')\n",
    "train_data.head()"
   ]
  },
  {
   "cell_type": "code",
   "execution_count": null,
   "id": "canadian-grocery",
   "metadata": {},
   "outputs": [],
   "source": []
  },
  {
   "cell_type": "code",
   "execution_count": null,
   "id": "characteristic-license",
   "metadata": {},
   "outputs": [],
   "source": []
  },
  {
   "cell_type": "code",
   "execution_count": null,
   "id": "maritime-oxygen",
   "metadata": {},
   "outputs": [],
   "source": []
  }
 ],
 "metadata": {
  "kernelspec": {
   "display_name": "Python 3.8.5 64-bit ('venv')",
   "language": "python",
   "name": "python38564bitvenv309bed666afd4ee8a8c34bb099fcf659"
  },
  "language_info": {
   "codemirror_mode": {
    "name": "ipython",
    "version": 3
   },
   "file_extension": ".py",
   "mimetype": "text/x-python",
   "name": "python",
   "nbconvert_exporter": "python",
   "pygments_lexer": "ipython3",
   "version": "3.8.5"
  }
 },
 "nbformat": 4,
 "nbformat_minor": 5
}
