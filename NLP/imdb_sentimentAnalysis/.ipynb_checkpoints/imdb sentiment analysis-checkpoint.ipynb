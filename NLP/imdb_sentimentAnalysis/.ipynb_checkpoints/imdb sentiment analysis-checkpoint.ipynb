{
 "cells": [
  {
   "cell_type": "markdown",
   "id": "oriented-hazard",
   "metadata": {},
   "source": [
    "# import libs"
   ]
  },
  {
   "cell_type": "code",
   "execution_count": 49,
   "id": "cultural-industry",
   "metadata": {},
   "outputs": [],
   "source": [
    "import numpy as np\n",
    "import pandas as pd \n",
    "import os"
   ]
  },
  {
   "cell_type": "markdown",
   "id": "smooth-court",
   "metadata": {},
   "source": [
    "# Function to load dataset"
   ]
  },
  {
   "cell_type": "code",
   "execution_count": 52,
   "id": "spoken-research",
   "metadata": {},
   "outputs": [],
   "source": [
    "def load_data(data_directory):\n",
    "    #input : data_directory --> path to data folder --> = '../aclimdb'\n",
    "    #Returns : test and train data as pd dataframe\n",
    "    data ={}\n",
    "    for split in ['train','test']:\n",
    "        data[split] = []\n",
    "        for sentiment in ['neg','pos']:\n",
    "            score = 1 if sentiment == 'pos' else 0\n",
    "            path = os.path.join(data_directory, split, sentiment)\n",
    "            file_names =  os.listdir(path)\n",
    "            for f_name in file_names:\n",
    "                with open(os.path.join(path,f_name),'r') as f:\n",
    "                    review = f.read()\n",
    "                    data[split].append([review,score])\n",
    "        \n",
    "    np.random.shuffle(data['train'])\n",
    "    data['train'] = pd.DataFrame(data['train'], columns=['text','sentiment'])\n",
    "        \n",
    "    np.random.shuffle(data['test'])\n",
    "    data['test'] = pd.DataFrame(data['test'], columns=['text','sentiment'])\n",
    "        \n",
    "    return data['train'],data['test']"
   ]
  },
  {
   "cell_type": "markdown",
   "id": "final-africa",
   "metadata": {},
   "source": [
    "# load data with load_data fuction"
   ]
  },
  {
   "cell_type": "code",
   "execution_count": 64,
   "id": "sealed-peeing",
   "metadata": {},
   "outputs": [
    {
     "data": {
      "text/html": [
       "<div>\n",
       "<style scoped>\n",
       "    .dataframe tbody tr th:only-of-type {\n",
       "        vertical-align: middle;\n",
       "    }\n",
       "\n",
       "    .dataframe tbody tr th {\n",
       "        vertical-align: top;\n",
       "    }\n",
       "\n",
       "    .dataframe thead th {\n",
       "        text-align: right;\n",
       "    }\n",
       "</style>\n",
       "<table border=\"1\" class=\"dataframe\">\n",
       "  <thead>\n",
       "    <tr style=\"text-align: right;\">\n",
       "      <th></th>\n",
       "      <th>text</th>\n",
       "      <th>sentiment</th>\n",
       "    </tr>\n",
       "  </thead>\n",
       "  <tbody>\n",
       "    <tr>\n",
       "      <th>0</th>\n",
       "      <td>Anyone who visited drive-ins in the 1950s, 60s...</td>\n",
       "      <td>0</td>\n",
       "    </tr>\n",
       "    <tr>\n",
       "      <th>1</th>\n",
       "      <td>If there is one thing to recommend about this ...</td>\n",
       "      <td>1</td>\n",
       "    </tr>\n",
       "    <tr>\n",
       "      <th>2</th>\n",
       "      <td>Last weekend I bought this 'zombie movie' from...</td>\n",
       "      <td>0</td>\n",
       "    </tr>\n",
       "    <tr>\n",
       "      <th>3</th>\n",
       "      <td>I really enjoyed this movie about the relation...</td>\n",
       "      <td>1</td>\n",
       "    </tr>\n",
       "    <tr>\n",
       "      <th>4</th>\n",
       "      <td>This overrated, short-lived series (a measly t...</td>\n",
       "      <td>0</td>\n",
       "    </tr>\n",
       "  </tbody>\n",
       "</table>\n",
       "</div>"
      ],
      "text/plain": [
       "                                                text  sentiment\n",
       "0  Anyone who visited drive-ins in the 1950s, 60s...          0\n",
       "1  If there is one thing to recommend about this ...          1\n",
       "2  Last weekend I bought this 'zombie movie' from...          0\n",
       "3  I really enjoyed this movie about the relation...          1\n",
       "4  This overrated, short-lived series (a measly t...          0"
      ]
     },
     "execution_count": 64,
     "metadata": {},
     "output_type": "execute_result"
    }
   ],
   "source": [
    "train_data,test_data = load_data(data_directory = './../../data/imdb-data')\n",
    "train_data.head()"
   ]
  },
  {
   "cell_type": "markdown",
   "id": "fallen-fourth",
   "metadata": {},
   "source": [
    "# Sklearn libs"
   ]
  },
  {
   "cell_type": "code",
   "execution_count": 69,
   "id": "characteristic-license",
   "metadata": {},
   "outputs": [],
   "source": [
    "from sklearn.metrics import accuracy_score\n",
    "from sklearn.svm import LinearSVC\n",
    "from sklearn.feature_extraction.text import CountVectorizer"
   ]
  },
  {
   "cell_type": "markdown",
   "id": "strong-advancement",
   "metadata": {},
   "source": [
    "\n",
    "# Clean_text function"
   ]
  },
  {
   "cell_type": "code",
   "execution_count": 108,
   "id": "golden-warning",
   "metadata": {},
   "outputs": [],
   "source": [
    "import re\n",
    "def clean_text(text):\n",
    "    \"\"\"\n",
    "    Applies preprocesing to a text\n",
    "        steps:\n",
    "            - removing HTML tags\n",
    "            - removing punctuations\n",
    "            - lowering text case\n",
    "    \"\"\"\n",
    "    #remove HTML tags \n",
    "    text = re.sub(r'<.*?>', '',text)\n",
    "    \n",
    "    #removing characters [\\\\],['],[\\\"]\n",
    "    text = re.sub(r\"\\\\\\\\\", \"\", text)   \n",
    "    text = re.sub(r\"\\\\'\", \"\", text)   \n",
    "    text = re.sub(r\"\\\\\\\"\", \"\", text)   \n",
    "    \n",
    "    text = text.strip().lower()\n",
    "    # replace punctuation characters with spaces\\n\",\n",
    "    filters='!\"\\\\'#$%&()*+,-./:;<=>?@[\\\\\\\\]^_`{|}~\\\\t\\\\n'\n",
    "    translate_dict = dict((c,'\\'') for c in filters)\n",
    "    translate_map = str.maketrans(translate_dict)\n",
    "    text = text.translate(translate_map)\n",
    "\n",
    "    return text"
   ]
  },
  {
   "cell_type": "code",
   "execution_count": 109,
   "id": "maritime-oxygen",
   "metadata": {},
   "outputs": [],
   "source": [
    "vectorizer = CountVectorizer(stop_words='english',preprocessor = clean_text)\n",
    "training_features = vectorizer.fit_transform(train_data['text'])\n",
    "test_features = vectorizer.transform(test_data['text'])"
   ]
  },
  {
   "cell_type": "code",
   "execution_count": 113,
   "id": "flexible-feeding",
   "metadata": {},
   "outputs": [
    {
     "name": "stdout",
     "output_type": "stream",
     "text": [
      "Accuracy on the IMDB dataset: 83.56\n"
     ]
    },
    {
     "name": "stderr",
     "output_type": "stream",
     "text": [
      "/home/r3r/Documents/DATA/ML/venv/lib/python3.8/site-packages/sklearn/svm/_base.py:985: ConvergenceWarning: Liblinear failed to converge, increase the number of iterations.\n",
      "  warnings.warn(\"Liblinear failed to converge, increase \"\n"
     ]
    }
   ],
   "source": [
    "\n",
    "model = LinearSVC()\n",
    "model.fit(training_features, train_data[\"sentiment\"])\n",
    "y_pred = model.predict(test_features)\n",
    "\n",
    "# Evaluation\n",
    "acc = accuracy_score(test_data[\"sentiment\"], y_pred)\n",
    "\n",
    "print(\"Accuracy on the IMDB dataset: {:.2f}\".format(acc*100))"
   ]
  },
  {
   "cell_type": "code",
   "execution_count": null,
   "id": "behind-sensitivity",
   "metadata": {},
   "outputs": [],
   "source": []
  }
 ],
 "metadata": {
  "kernelspec": {
   "display_name": "Python 3.8.5 64-bit ('venv')",
   "language": "python",
   "name": "python38564bitvenv309bed666afd4ee8a8c34bb099fcf659"
  },
  "language_info": {
   "codemirror_mode": {
    "name": "ipython",
    "version": 3
   },
   "file_extension": ".py",
   "mimetype": "text/x-python",
   "name": "python",
   "nbconvert_exporter": "python",
   "pygments_lexer": "ipython3",
   "version": "3.8.5"
  }
 },
 "nbformat": 4,
 "nbformat_minor": 5
}
