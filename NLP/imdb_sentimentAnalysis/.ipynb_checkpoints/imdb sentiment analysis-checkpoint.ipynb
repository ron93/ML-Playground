{
 "cells": [
  {
   "cell_type": "code",
   "execution_count": 49,
   "id": "cultural-industry",
   "metadata": {},
   "outputs": [],
   "source": [
    "import numpy as np\n",
    "import pandas as pd \n",
    "import os"
   ]
  },
  {
   "cell_type": "code",
   "execution_count": 52,
   "id": "spoken-research",
   "metadata": {},
   "outputs": [],
   "source": [
    "def load_data(data_directory):\n",
    "    #input : data_directory --> path to data folder --> = '../aclimdb'\n",
    "    #Returns : test and train data as pd dataframe\n",
    "    data ={}\n",
    "    for split in ['train','test']:\n",
    "        data[split] = []\n",
    "        for sentiment in ['neg','pos']:\n",
    "            score = 1 if sentiment == 'pos' else 0\n",
    "            path = os.path.join(data_directory, split, sentiment)\n",
    "            file_names =  os.listdir(path)\n",
    "            for f_name in file_names:\n",
    "                with open(os.path.join(path,f_name),'r') as f:\n",
    "                    review = f.read()\n",
    "                    data[split].append([review,score])\n",
    "        \n",
    "    np.random.shuffle(data['train'])\n",
    "    data['train'] = pd.DataFrame(data['train'], columns=['text','sentiment'])\n",
    "        \n",
    "    np.random.shuffle(data['test'])\n",
    "    data['test'] = pd.DataFrame(data['test'], columns=['text','sentiment'])\n",
    "        \n",
    "    return data['train'],data['test']"
   ]
  },
  {
   "cell_type": "code",
   "execution_count": 55,
   "id": "sealed-peeing",
   "metadata": {},
   "outputs": [
    {
     "data": {
      "text/html": [
       "<div>\n",
       "<style scoped>\n",
       "    .dataframe tbody tr th:only-of-type {\n",
       "        vertical-align: middle;\n",
       "    }\n",
       "\n",
       "    .dataframe tbody tr th {\n",
       "        vertical-align: top;\n",
       "    }\n",
       "\n",
       "    .dataframe thead th {\n",
       "        text-align: right;\n",
       "    }\n",
       "</style>\n",
       "<table border=\"1\" class=\"dataframe\">\n",
       "  <thead>\n",
       "    <tr style=\"text-align: right;\">\n",
       "      <th></th>\n",
       "      <th>text</th>\n",
       "      <th>sentiment</th>\n",
       "    </tr>\n",
       "  </thead>\n",
       "  <tbody>\n",
       "    <tr>\n",
       "      <th>0</th>\n",
       "      <td>\"How To Lose Friends &amp; Alienate People\" is not...</td>\n",
       "      <td>1</td>\n",
       "    </tr>\n",
       "    <tr>\n",
       "      <th>1</th>\n",
       "      <td>I wondered why I didn't like Peggy Sue Got Mar...</td>\n",
       "      <td>0</td>\n",
       "    </tr>\n",
       "    <tr>\n",
       "      <th>2</th>\n",
       "      <td>I saw \"Brother's Shadow\" at the Tribeca Film F...</td>\n",
       "      <td>1</td>\n",
       "    </tr>\n",
       "    <tr>\n",
       "      <th>3</th>\n",
       "      <td>I read a few reviews of this TV movie which al...</td>\n",
       "      <td>1</td>\n",
       "    </tr>\n",
       "    <tr>\n",
       "      <th>4</th>\n",
       "      <td>I read Rice's novel with interest, and became ...</td>\n",
       "      <td>0</td>\n",
       "    </tr>\n",
       "  </tbody>\n",
       "</table>\n",
       "</div>"
      ],
      "text/plain": [
       "                                                text  sentiment\n",
       "0  \"How To Lose Friends & Alienate People\" is not...          1\n",
       "1  I wondered why I didn't like Peggy Sue Got Mar...          0\n",
       "2  I saw \"Brother's Shadow\" at the Tribeca Film F...          1\n",
       "3  I read a few reviews of this TV movie which al...          1\n",
       "4  I read Rice's novel with interest, and became ...          0"
      ]
     },
     "execution_count": 55,
     "metadata": {},
     "output_type": "execute_result"
    }
   ],
   "source": [
    "train_data,test_data = load_data(data_directory = './imdb-data')\n",
    "train_data.head()"
   ]
  },
  {
   "cell_type": "code",
   "execution_count": null,
   "id": "canadian-grocery",
   "metadata": {},
   "outputs": [],
   "source": []
  },
  {
   "cell_type": "code",
   "execution_count": null,
   "id": "characteristic-license",
   "metadata": {},
   "outputs": [],
   "source": []
  },
  {
   "cell_type": "code",
   "execution_count": null,
   "id": "maritime-oxygen",
   "metadata": {},
   "outputs": [],
   "source": []
  }
 ],
 "metadata": {
  "kernelspec": {
   "display_name": "Python 3.8.5 64-bit ('venv')",
   "language": "python",
   "name": "python38564bitvenv309bed666afd4ee8a8c34bb099fcf659"
  },
  "language_info": {
   "codemirror_mode": {
    "name": "ipython",
    "version": 3
   },
   "file_extension": ".py",
   "mimetype": "text/x-python",
   "name": "python",
   "nbconvert_exporter": "python",
   "pygments_lexer": "ipython3",
   "version": "3.8.5"
  }
 },
 "nbformat": 4,
 "nbformat_minor": 5
}
